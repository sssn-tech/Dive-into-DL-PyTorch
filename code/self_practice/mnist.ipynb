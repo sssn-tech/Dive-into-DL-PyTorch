{
 "cells": [
  {
   "cell_type": "code",
   "execution_count": 7,
   "metadata": {
    "collapsed": true,
    "ExecuteTime": {
     "end_time": "2024-01-14T06:56:27.389992Z",
     "start_time": "2024-01-14T06:56:27.363948Z"
    }
   },
   "outputs": [],
   "source": [
    "import torch\n",
    "import matplotlib.pyplot as plt\n",
    "from torchvision import datasets, transforms\n",
    "\n",
    "root = '/Users/rainbow/workingLabs/Dive-into-DL-PyTorch/data/mnist'\n",
    "# 定义转换器，将数据转换为PyTorch张量\n",
    "transform = transforms.Compose([transforms.ToTensor()])\n",
    "\n",
    "# 下载训练数据\n",
    "train_data = datasets.MNIST(root=root, train=True, download=True, transform=transform)\n",
    "\n",
    "# 下载测试数据\n",
    "test_data = datasets.MNIST(root=root, train=False, download=True, transform=transform)"
   ]
  },
  {
   "cell_type": "code",
   "execution_count": 8,
   "outputs": [
    {
     "name": "stdout",
     "output_type": "stream",
     "text": [
      "5 torch.Size([1, 28, 28])\n"
     ]
    },
    {
     "data": {
      "text/plain": "<Figure size 640x480 with 1 Axes>",
      "image/png": "[encoded data removed]"
     },
     "metadata": {},
     "output_type": "display_data"
    }
   ],
   "source": [
    "img_test = train_data[0][0]\n",
    "plt.imshow(img_test.squeeze())\n",
    "print(train_data[0][1], img_test.size())"
   ],
   "metadata": {
    "collapsed": false,
    "ExecuteTime": {
     "end_time": "2024-01-14T06:56:27.462624Z",
     "start_time": "2024-01-14T06:56:27.400381Z"
    }
   }
  },
  {
   "cell_type": "code",
   "execution_count": 9,
   "outputs": [],
   "source": [
    "num_input = 28 * 28"
   ],
   "metadata": {
    "collapsed": false,
    "ExecuteTime": {
     "end_time": "2024-01-14T06:56:27.466934Z",
     "start_time": "2024-01-14T06:56:27.463778Z"
    }
   }
  },
  {
   "cell_type": "code",
   "execution_count": 10,
   "outputs": [],
   "source": [
    "from torch import nn\n",
    "import torch.optim as optim\n",
    "net = nn.Sequential(nn.Conv2d(1, 32, kernel_size=3, stride=1, padding=1),\n",
    "# output size = ((input_size - kernel_size + 2 * padding) / stride) + 1\n",
    "                    # = 28\n",
    "                    nn.ReLU(),\n",
    "                    nn.MaxPool2d(kernel_size=2, stride=2),\n",
    "                    # = 14\n",
    "                    nn.Dropout(0.1),\n",
    "                    nn.Conv2d(32, 64, kernel_size=3, stride=1, padding=1),\n",
    "                    # = 14\n",
    "                    nn.ReLU(),\n",
    "                    nn.MaxPool2d(kernel_size=2, stride=2),\n",
    "                    # = 7\n",
    "                    nn.Dropout(0.1),\n",
    "                    nn.Flatten(),\n",
    "                    nn.Linear(64 * 7 * 7, 128),\n",
    "                    nn.Sigmoid(),\n",
    "                    nn.Dropout(0.5),\n",
    "                    nn.Linear(128, 10),\n",
    "                    nn.LogSoftmax(dim=1)\n",
    "                )\n",
    "optimizer = optim.Adam(net.parameters(), lr=0.0001, weight_decay=0.0001)\n",
    "loss = nn.CrossEntropyLoss()"
   ],
   "metadata": {
    "collapsed": false,
    "ExecuteTime": {
     "end_time": "2024-01-14T06:56:27.474667Z",
     "start_time": "2024-01-14T06:56:27.468530Z"
    }
   }
  },
  {
   "cell_type": "code",
   "execution_count": 11,
   "outputs": [
    {
     "name": "stdout",
     "output_type": "stream",
     "text": [
      "tensor([[[[0., 0., 0.,  ..., 0., 0., 0.],\n",
      "          [0., 0., 0.,  ..., 0., 0., 0.],\n",
      "          [0., 0., 0.,  ..., 0., 0., 0.],\n",
      "          ...,\n",
      "          [0., 0., 0.,  ..., 0., 0., 0.],\n",
      "          [0., 0., 0.,  ..., 0., 0., 0.],\n",
      "          [0., 0., 0.,  ..., 0., 0., 0.]]],\n",
      "\n",
      "\n",
      "        [[[0., 0., 0.,  ..., 0., 0., 0.],\n",
      "          [0., 0., 0.,  ..., 0., 0., 0.],\n",
      "          [0., 0., 0.,  ..., 0., 0., 0.],\n",
      "          ...,\n",
      "          [0., 0., 0.,  ..., 0., 0., 0.],\n",
      "          [0., 0., 0.,  ..., 0., 0., 0.],\n",
      "          [0., 0., 0.,  ..., 0., 0., 0.]]],\n",
      "\n",
      "\n",
      "        [[[0., 0., 0.,  ..., 0., 0., 0.],\n",
      "          [0., 0., 0.,  ..., 0., 0., 0.],\n",
      "          [0., 0., 0.,  ..., 0., 0., 0.],\n",
      "          ...,\n",
      "          [0., 0., 0.,  ..., 0., 0., 0.],\n",
      "          [0., 0., 0.,  ..., 0., 0., 0.],\n",
      "          [0., 0., 0.,  ..., 0., 0., 0.]]],\n",
      "\n",
      "\n",
      "        ...,\n",
      "\n",
      "\n",
      "        [[[0., 0., 0.,  ..., 0., 0., 0.],\n",
      "          [0., 0., 0.,  ..., 0., 0., 0.],\n",
      "          [0., 0., 0.,  ..., 0., 0., 0.],\n",
      "          ...,\n",
      "          [0., 0., 0.,  ..., 0., 0., 0.],\n",
      "          [0., 0., 0.,  ..., 0., 0., 0.],\n",
      "          [0., 0., 0.,  ..., 0., 0., 0.]]],\n",
      "\n",
      "\n",
      "        [[[0., 0., 0.,  ..., 0., 0., 0.],\n",
      "          [0., 0., 0.,  ..., 0., 0., 0.],\n",
      "          [0., 0., 0.,  ..., 0., 0., 0.],\n",
      "          ...,\n",
      "          [0., 0., 0.,  ..., 0., 0., 0.],\n",
      "          [0., 0., 0.,  ..., 0., 0., 0.],\n",
      "          [0., 0., 0.,  ..., 0., 0., 0.]]],\n",
      "\n",
      "\n",
      "        [[[0., 0., 0.,  ..., 0., 0., 0.],\n",
      "          [0., 0., 0.,  ..., 0., 0., 0.],\n",
      "          [0., 0., 0.,  ..., 0., 0., 0.],\n",
      "          ...,\n",
      "          [0., 0., 0.,  ..., 0., 0., 0.],\n",
      "          [0., 0., 0.,  ..., 0., 0., 0.],\n",
      "          [0., 0., 0.,  ..., 0., 0., 0.]]]]) tensor([2, 0, 6, 6, 7, 2, 3, 5, 8, 5, 4, 6, 6, 2, 2, 6, 0, 3, 8, 7, 3, 2, 6, 1,\n",
      "        1, 3, 8, 2, 6, 1, 5, 3])\n"
     ]
    }
   ],
   "source": [
    "import torch.utils.data as Data\n",
    "data_iter = Data.DataLoader(dataset=train_data, batch_size=32, shuffle=True)\n",
    "for X, y in data_iter:\n",
    "    print(X, y)\n",
    "    break"
   ],
   "metadata": {
    "collapsed": false,
    "ExecuteTime": {
     "end_time": "2024-01-14T06:56:27.540446Z",
     "start_time": "2024-01-14T06:56:27.478534Z"
    }
   }
  },
  {
   "cell_type": "code",
   "execution_count": 12,
   "outputs": [
    {
     "name": "stdout",
     "output_type": "stream",
     "text": [
      "epoch1, loss=0.4672323763370514\n",
      "epoch2, loss=0.29077374935150146\n",
      "epoch3, loss=0.058506254106760025\n",
      "epoch4, loss=0.10998646169900894\n",
      "epoch5, loss=0.021304773166775703\n",
      "epoch6, loss=0.03827250748872757\n",
      "epoch7, loss=0.02150319330394268\n",
      "epoch8, loss=0.02454886958003044\n",
      "epoch9, loss=0.04917215183377266\n",
      "epoch10, loss=0.017947619780898094\n"
     ]
    }
   ],
   "source": [
    "num_epochs = 10\n",
    "for epoch in range(1, num_epochs + 1):\n",
    "    for X, y in data_iter:\n",
    "        y_hat = net(X)\n",
    "        l = loss(y_hat, y)\n",
    "        optimizer.zero_grad()\n",
    "        l.backward()\n",
    "        optimizer.step()\n",
    "    print(f'epoch{epoch}, loss={l.item()}')"
   ],
   "metadata": {
    "collapsed": false,
    "ExecuteTime": {
     "end_time": "2024-01-14T07:01:23.496895Z",
     "start_time": "2024-01-14T06:56:27.488297Z"
    }
   }
  },
  {
   "cell_type": "code",
   "execution_count": 13,
   "outputs": [
    {
     "name": "stdout",
     "output_type": "stream",
     "text": [
      "Accuracy: 0.9799\n",
      "Confusion Matrix:\n",
      "[[ 971    0    2    0    1    0    1    0    4    1]\n",
      " [   0 1124    2    2    0    2    1    1    3    0]\n",
      " [   2    1 1002    7    1    0    2   10    7    0]\n",
      " [   1    0    1  993    0    6    0    4    4    1]\n",
      " [   1    1    2    0  964    0    3    2    3    6]\n",
      " [   1    0    0    8    0  876    3    1    2    1]\n",
      " [   4    2    0    0    3    5  941    0    3    0]\n",
      " [   1    1   10    1    0    0    0 1012    1    2]\n",
      " [   6    1    2    4    2    4    1    2  947    5]\n",
      " [   2    4    0    5    6    7    0    9    7  969]]\n",
      "Precision: 0.9799507377138188, Recall: 0.9799, F1 Score: 0.9798953496362685\n"
     ]
    }
   ],
   "source": [
    "from sklearn.metrics import confusion_matrix, accuracy_score, precision_recall_fscore_support\n",
    "import numpy as np\n",
    "\n",
    "# 将数据加载为批次\n",
    "test_loader = Data.DataLoader(dataset=test_data, batch_size=32, shuffle=False)\n",
    "\n",
    "# 使用模型进行预测\n",
    "y_pred = []\n",
    "y_true = []\n",
    "with torch.no_grad():\n",
    "    for X, y in test_loader:\n",
    "        outputs = net(X)\n",
    "        _, predicted = torch.max(outputs, 1)\n",
    "        y_pred.extend(predicted.numpy())\n",
    "        y_true.extend(y.numpy())\n",
    "\n",
    "# 计算准确率\n",
    "accuracy = accuracy_score(y_true, y_pred)\n",
    "print(f'Accuracy: {accuracy}')\n",
    "\n",
    "# 计算混淆矩阵\n",
    "conf_matrix = confusion_matrix(y_true, y_pred)\n",
    "print(f'Confusion Matrix:\\n{conf_matrix}')\n",
    "\n",
    "# 计算精确度、召回率和F1分数\n",
    "precision, recall, f1, _ = precision_recall_fscore_support(y_true, y_pred, average='weighted')\n",
    "print(f'Precision: {precision}, Recall: {recall}, F1 Score: {f1}')\n"
   ],
   "metadata": {
    "collapsed": false,
    "ExecuteTime": {
     "end_time": "2024-01-14T07:01:25.902196Z",
     "start_time": "2024-01-14T07:01:23.498938Z"
    }
   }
  },
  {
   "cell_type": "code",
   "execution_count": 14,
   "outputs": [
    {
     "name": "stdout",
     "output_type": "stream",
     "text": [
      "tensor([9, 7, 9, 8, 1, 0, 4, 6, 9, 2, 7, 5, 6, 9, 5, 3, 9, 5, 9, 0, 3, 9, 5, 4,\n",
      "        2, 8, 4, 1, 8, 6, 0, 8])\n",
      "tensor([9, 7, 9, 8, 1, 0, 4, 6, 9, 2, 7, 5, 6, 9, 5, 3, 9, 5, 9, 0, 3, 9, 5, 4,\n",
      "        2, 8, 4, 1, 8, 6, 0, 8])\n",
      "torch.Size([32, 10])\n"
     ]
    }
   ],
   "source": [
    "for X, y in data_iter:\n",
    "    y_hat = net(X)\n",
    "    _, pre = torch.max(y_hat, 1)\n",
    "    print(f'{y}\\n{pre}\\n{y_hat.size()}')\n",
    "    break"
   ],
   "metadata": {
    "collapsed": false,
    "ExecuteTime": {
     "end_time": "2024-01-14T07:01:25.913965Z",
     "start_time": "2024-01-14T07:01:25.903Z"
    }
   }
  },
  {
   "cell_type": "code",
   "execution_count": 14,
   "outputs": [],
   "source": [],
   "metadata": {
    "collapsed": false,
    "ExecuteTime": {
     "end_time": "2024-01-14T07:01:25.915670Z",
     "start_time": "2024-01-14T07:01:25.914142Z"
    }
   }
  }
 ],
 "metadata": {
  "kernelspec": {
   "display_name": "Python 3",
   "language": "python",
   "name": "python3"
  },
  "language_info": {
   "codemirror_mode": {
    "name": "ipython",
    "version": 2
   },
   "file_extension": ".py",
   "mimetype": "text/x-python",
   "name": "python",
   "nbconvert_exporter": "python",
   "pygments_lexer": "ipython2",
   "version": "2.7.6"
  }
 },
 "nbformat": 4,
 "nbformat_minor": 0
}
