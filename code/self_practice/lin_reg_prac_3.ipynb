{
 "cells": [
  {
   "cell_type": "code",
   "execution_count": 1,
   "metadata": {
    "collapsed": true,
    "ExecuteTime": {
     "end_time": "2024-01-13T12:58:23.619527Z",
     "start_time": "2024-01-13T12:58:22.823166Z"
    }
   },
   "outputs": [],
   "source": [
    "import numpy.random\n",
    "import torch\n",
    "from torch import nn\n",
    "import numpy as np"
   ]
  },
  {
   "cell_type": "code",
   "execution_count": 2,
   "outputs": [
    {
     "data": {
      "text/plain": "(torch.Size([2000, 4]), torch.Size([2000, 1]))"
     },
     "execution_count": 2,
     "metadata": {},
     "output_type": "execute_result"
    }
   ],
   "source": [
    "num_examples, num_inputs = 2000, 4\n",
    "features = torch.randn(num_examples, num_inputs)\n",
    "true_w = torch.tensor([1.1, -2.2, 3.3, -4.4]).view(4, 1)\n",
    "true_b = torch.tensor([5.5])\n",
    "labels = torch.matmul(features, true_w) + true_b\n",
    "labels += torch.tensor(np.random.normal(0, 0.01, size=labels.size()))\n",
    "features.size(), labels.size()"
   ],
   "metadata": {
    "collapsed": false,
    "ExecuteTime": {
     "end_time": "2024-01-13T12:58:23.624589Z",
     "start_time": "2024-01-13T12:58:23.620568Z"
    }
   }
  },
  {
   "cell_type": "code",
   "execution_count": 3,
   "outputs": [],
   "source": [
    "import torch.utils.data as Data\n",
    "dataset = Data.TensorDataset(features, labels)\n",
    "batch_size = 10\n",
    "data_iter = Data.DataLoader(dataset=dataset, batch_size=batch_size, shuffle=True, num_workers=2)"
   ],
   "metadata": {
    "collapsed": false,
    "ExecuteTime": {
     "end_time": "2024-01-13T12:58:23.626769Z",
     "start_time": "2024-01-13T12:58:23.625395Z"
    }
   }
  },
  {
   "cell_type": "code",
   "execution_count": 4,
   "outputs": [
    {
     "name": "stdout",
     "output_type": "stream",
     "text": [
      "tensor([[ 0.1043, -0.2737, -1.2184,  0.0766],\n",
      "        [ 0.5457, -0.6421,  2.5052,  0.7603],\n",
      "        [ 0.7044,  0.9190,  0.7113, -0.0784],\n",
      "        [ 0.4407,  1.6817,  0.0598,  0.5525],\n",
      "        [ 1.5750, -1.2688, -0.0160, -0.1599],\n",
      "        [ 0.5125,  1.2878,  0.5106,  0.9108],\n",
      "        [ 0.8015, -0.4470, -1.1270, -0.6111],\n",
      "        [ 1.5454,  0.0655, -0.6805, -0.8853],\n",
      "        [-2.9616,  0.6592, -0.2989,  0.2091],\n",
      "        [ 0.7317,  1.2542, -0.0794,  0.4616]]) tensor([[ 1.8642],\n",
      "        [12.4572],\n",
      "        [ 6.9527],\n",
      "        [ 0.0670],\n",
      "        [10.6835],\n",
      "        [ 0.8986],\n",
      "        [ 6.3506],\n",
      "        [ 8.6983],\n",
      "        [-1.1201],\n",
      "        [ 1.2519]])\n"
     ]
    },
    {
     "data": {
      "text/plain": "Sequential(\n  (0): Linear(in_features=4, out_features=1, bias=True)\n)"
     },
     "execution_count": 4,
     "metadata": {},
     "output_type": "execute_result"
    }
   ],
   "source": [
    "for X, y in data_iter:\n",
    "    print(X, y)\n",
    "    break\n",
    "net = nn.Sequential(nn.Linear(num_inputs, 1))\n",
    "net"
   ],
   "metadata": {
    "collapsed": false,
    "ExecuteTime": {
     "end_time": "2024-01-13T12:58:24.799807Z",
     "start_time": "2024-01-13T12:58:23.628402Z"
    }
   }
  },
  {
   "cell_type": "code",
   "execution_count": 5,
   "outputs": [],
   "source": [
    "loss = nn.MSELoss()\n",
    "optimizer = torch.optim.SGD(net.parameters(), lr=0.02)"
   ],
   "metadata": {
    "collapsed": false,
    "ExecuteTime": {
     "end_time": "2024-01-13T12:58:24.921204Z",
     "start_time": "2024-01-13T12:58:24.802422Z"
    }
   }
  },
  {
   "cell_type": "code",
   "execution_count": 6,
   "outputs": [
    {
     "name": "stdout",
     "output_type": "stream",
     "text": [
      "Parameter containing:\n",
      "tensor([[ 0.2507, -0.3688,  0.3009,  0.3950]], requires_grad=True)\n",
      "Parameter containing:\n",
      "tensor([-0.4844], requires_grad=True)\n"
     ]
    }
   ],
   "source": [
    "for param in net.parameters():\n",
    "    print(param)"
   ],
   "metadata": {
    "collapsed": false,
    "ExecuteTime": {
     "end_time": "2024-01-13T12:58:24.924748Z",
     "start_time": "2024-01-13T12:58:24.922524Z"
    }
   }
  },
  {
   "cell_type": "code",
   "execution_count": 7,
   "outputs": [
    {
     "data": {
      "text/plain": "Parameter containing:\ntensor([[-0.0099,  0.0068,  0.0030, -0.0005]], requires_grad=True)"
     },
     "execution_count": 7,
     "metadata": {},
     "output_type": "execute_result"
    }
   ],
   "source": [
    "from torch.nn import init\n",
    "init.constant_(net[0].bias.data, val=0)\n",
    "init.normal_(net[0].weight, mean=0, std=0.01)"
   ],
   "metadata": {
    "collapsed": false,
    "ExecuteTime": {
     "end_time": "2024-01-13T12:58:24.928516Z",
     "start_time": "2024-01-13T12:58:24.925241Z"
    }
   }
  },
  {
   "cell_type": "code",
   "execution_count": 8,
   "outputs": [
    {
     "name": "stdout",
     "output_type": "stream",
     "text": [
      "Parameter containing:\n",
      "tensor([[-0.0099,  0.0068,  0.0030, -0.0005]], requires_grad=True)\n",
      "Parameter containing:\n",
      "tensor([0.], requires_grad=True)\n"
     ]
    }
   ],
   "source": [
    "for param in net.parameters():\n",
    "    print(param)"
   ],
   "metadata": {
    "collapsed": false,
    "ExecuteTime": {
     "end_time": "2024-01-13T12:58:24.932202Z",
     "start_time": "2024-01-13T12:58:24.929273Z"
    }
   }
  },
  {
   "cell_type": "code",
   "execution_count": 9,
   "outputs": [
    {
     "data": {
      "text/plain": "tensor([[-0.0005]], grad_fn=<AddmmBackward0>)"
     },
     "execution_count": 9,
     "metadata": {},
     "output_type": "execute_result"
    }
   ],
   "source": [
    "x_test = torch.tensor([0, 0, 0, 1], dtype=torch.float32).view(1, 4);\n",
    "net(x_test)"
   ],
   "metadata": {
    "collapsed": false,
    "ExecuteTime": {
     "end_time": "2024-01-13T12:58:24.939246Z",
     "start_time": "2024-01-13T12:58:24.931993Z"
    }
   }
  },
  {
   "cell_type": "code",
   "execution_count": 10,
   "outputs": [
    {
     "name": "stdout",
     "output_type": "stream",
     "text": [
      "epoch 1, loss=0.00012\n",
      "epoch 2, loss=0.00006\n",
      "epoch 3, loss=0.00012\n"
     ]
    }
   ],
   "source": [
    "num_epochs = 3\n",
    "for epoch in range (1, num_epochs + 1):\n",
    "    for X, y in data_iter:\n",
    "        y_hat = net(X)\n",
    "        l = loss(y_hat.view(-1, 1), y.view(-1, 1))\n",
    "        net.zero_grad()\n",
    "        l.backward()\n",
    "        optimizer.step()\n",
    "    print(\"epoch %d, loss=%.5f\" % (epoch, l.item()))"
   ],
   "metadata": {
    "collapsed": false,
    "ExecuteTime": {
     "end_time": "2024-01-13T12:58:28.113081Z",
     "start_time": "2024-01-13T12:58:24.936701Z"
    }
   }
  },
  {
   "cell_type": "code",
   "execution_count": 11,
   "outputs": [
    {
     "data": {
      "text/plain": "(tensor([[ 1.1000],\n         [-2.2000],\n         [ 3.3000],\n         [-4.4000]]),\n tensor([5.5000]))"
     },
     "execution_count": 11,
     "metadata": {},
     "output_type": "execute_result"
    }
   ],
   "source": [
    "true_w, true_b"
   ],
   "metadata": {
    "collapsed": false,
    "ExecuteTime": {
     "end_time": "2024-01-13T12:58:28.117575Z",
     "start_time": "2024-01-13T12:58:28.113914Z"
    }
   }
  },
  {
   "cell_type": "code",
   "execution_count": 12,
   "outputs": [
    {
     "name": "stdout",
     "output_type": "stream",
     "text": [
      "Parameter containing:\n",
      "tensor([[ 1.0999, -2.2002,  3.3001, -4.3993]], requires_grad=True)\n",
      "Parameter containing:\n",
      "tensor([5.4999], requires_grad=True)\n"
     ]
    }
   ],
   "source": [
    "for param in net.parameters():\n",
    "    print(param)"
   ],
   "metadata": {
    "collapsed": false,
    "ExecuteTime": {
     "end_time": "2024-01-13T12:58:28.120972Z",
     "start_time": "2024-01-13T12:58:28.118066Z"
    }
   }
  },
  {
   "cell_type": "code",
   "execution_count": 12,
   "outputs": [],
   "source": [],
   "metadata": {
    "collapsed": false,
    "ExecuteTime": {
     "end_time": "2024-01-13T12:58:28.122515Z",
     "start_time": "2024-01-13T12:58:28.121156Z"
    }
   }
  }
 ],
 "metadata": {
  "kernelspec": {
   "display_name": "Python 3",
   "language": "python",
   "name": "python3"
  },
  "language_info": {
   "codemirror_mode": {
    "name": "ipython",
    "version": 2
   },
   "file_extension": ".py",
   "mimetype": "text/x-python",
   "name": "python",
   "nbconvert_exporter": "python",
   "pygments_lexer": "ipython2",
   "version": "2.7.6"
  }
 },
 "nbformat": 4,
 "nbformat_minor": 0
}
