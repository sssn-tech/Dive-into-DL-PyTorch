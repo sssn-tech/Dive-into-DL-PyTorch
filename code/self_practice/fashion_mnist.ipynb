{
 "cells": [
  {
   "cell_type": "code",
   "execution_count": 132,
   "metadata": {
    "collapsed": true,
    "ExecuteTime": {
     "end_time": "2024-01-14T11:18:46.084222Z",
     "start_time": "2024-01-14T11:18:46.051215Z"
    }
   },
   "outputs": [],
   "source": [
    "\n",
    "import torchvision\n",
    "import torchvision.transforms as transforms\n",
    "mnist_train = torchvision.datasets.FashionMNIST(root='/Users/rainbow/workingLabs/Dive-into-DL-PyTorch/data/FashionMNIST', train=True, download=True, transform=transforms.ToTensor())\n",
    "mnist_test = torchvision.datasets.FashionMNIST(root='/Users/rainbow/workingLabs/Dive-into-DL-PyTorch/data/FashionMNIST', train=False, download=True, transform=transforms.ToTensor())"
   ]
  },
  {
   "cell_type": "code",
   "execution_count": 133,
   "outputs": [],
   "source": [
    "import torch\n",
    "import matplotlib.pyplot as plt\n",
    "import torch.utils.data as Data"
   ],
   "metadata": {
    "collapsed": false,
    "ExecuteTime": {
     "end_time": "2024-01-14T11:18:46.084461Z",
     "start_time": "2024-01-14T11:18:46.080058Z"
    }
   }
  },
  {
   "cell_type": "code",
   "execution_count": 134,
   "outputs": [
    {
     "name": "stdout",
     "output_type": "stream",
     "text": [
      "torch.Size([1, 28, 28])\n"
     ]
    },
    {
     "data": {
      "text/plain": "<matplotlib.image.AxesImage at 0x174fff8b0>"
     },
     "execution_count": 134,
     "metadata": {},
     "output_type": "execute_result"
    },
    {
     "data": {
      "text/plain": "<Figure size 640x480 with 1 Axes>",
      "image/png": "[encoded data removed]"
     },
     "metadata": {},
     "output_type": "display_data"
    }
   ],
   "source": [
    "print(mnist_train[0][0].size())\n",
    "plt.imshow(mnist_train[0][0].squeeze())"
   ],
   "metadata": {
    "collapsed": false,
    "ExecuteTime": {
     "end_time": "2024-01-14T11:18:46.152860Z",
     "start_time": "2024-01-14T11:18:46.084543Z"
    }
   }
  },
  {
   "cell_type": "code",
   "execution_count": 135,
   "outputs": [
    {
     "name": "stdout",
     "output_type": "stream",
     "text": [
      "torch.Size([64, 1, 28, 28])\n",
      "torch.Size([64])\n"
     ]
    }
   ],
   "source": [
    "train_data_iter = Data.DataLoader(dataset=mnist_train, batch_size=64, shuffle=True)\n",
    "for X, y in train_data_iter:\n",
    "    print(f\"{X.size()}\\n{y.size()}\")\n",
    "    break\n"
   ],
   "metadata": {
    "collapsed": false,
    "ExecuteTime": {
     "end_time": "2024-01-14T11:18:46.159974Z",
     "start_time": "2024-01-14T11:18:46.155527Z"
    }
   }
  },
  {
   "cell_type": "code",
   "execution_count": 136,
   "outputs": [
    {
     "data": {
      "text/plain": "(tensor(0), tensor(9))"
     },
     "execution_count": 136,
     "metadata": {},
     "output_type": "execute_result"
    }
   ],
   "source": [
    "# See how many categories here\n",
    "minn = 10000\n",
    "maxx = -1\n",
    "for X, y in train_data_iter:\n",
    "    a, batchMin = torch.min(y, 0)\n",
    "    b, batchMax = torch.max(y, 0)\n",
    "    minn = min(minn, a)\n",
    "    maxx = max(maxx, b)\n",
    "a, b\n"
   ],
   "metadata": {
    "collapsed": false,
    "ExecuteTime": {
     "end_time": "2024-01-14T11:18:47.501153Z",
     "start_time": "2024-01-14T11:18:46.162669Z"
    }
   }
  },
  {
   "cell_type": "code",
   "execution_count": 137,
   "outputs": [],
   "source": [
    "from torch import nn\n",
    "net = nn.Sequential(\n",
    "                                                          # 28\n",
    "    nn.Conv2d(1, 32, kernel_size=3, stride=1, padding=1), # 28\n",
    "    nn.ReLU(),\n",
    "    nn.MaxPool2d(kernel_size=3, stride=1),                # 26\n",
    "    nn.Dropout(0.3),\n",
    "\n",
    "    nn.Conv2d(32, 48, kernel_size=4, stride=2, padding=2),# 14\n",
    "    nn.ReLU(),\n",
    "    nn.MaxPool2d(kernel_size=3, stride=1),                # 12\n",
    "    nn.Dropout(0.3),\n",
    "\n",
    "    nn.Flatten(),\n",
    "    nn.ReLU(),\n",
    "\n",
    "    nn.Linear(12 * 12 * 48, 128),\n",
    "    nn.ReLU(),\n",
    "    nn.Dropout(0.5),\n",
    "    nn.Linear(128, 10),\n",
    "    nn.LogSoftmax(dim=1)\n",
    ")\n",
    "import torch.optim as optim\n",
    "optimizer = optim.Adam(net.parameters(), lr=0.001, weight_decay=0.001)"
   ],
   "metadata": {
    "collapsed": false,
    "ExecuteTime": {
     "end_time": "2024-01-14T11:18:47.507841Z",
     "start_time": "2024-01-14T11:18:47.503690Z"
    }
   }
  },
  {
   "cell_type": "code",
   "execution_count": 138,
   "outputs": [
    {
     "name": "stdout",
     "output_type": "stream",
     "text": [
      "torch.Size([1, 1, 28, 28])\n",
      "Conv2d->torch.Size([1, 32, 28, 28])\n",
      "ReLU->torch.Size([1, 32, 28, 28])\n",
      "MaxPool2d->torch.Size([1, 32, 26, 26])\n",
      "Dropout->torch.Size([1, 32, 26, 26])\n",
      "Conv2d->torch.Size([1, 48, 14, 14])\n",
      "ReLU->torch.Size([1, 48, 14, 14])\n",
      "MaxPool2d->torch.Size([1, 48, 12, 12])\n",
      "Dropout->torch.Size([1, 48, 12, 12])\n",
      "Flatten->torch.Size([1, 6912])\n",
      "ReLU->torch.Size([1, 6912])\n",
      "Linear->torch.Size([1, 128])\n",
      "ReLU->torch.Size([1, 128])\n",
      "Dropout->torch.Size([1, 128])\n",
      "Linear->torch.Size([1, 10])\n",
      "LogSoftmax->torch.Size([1, 10])\n"
     ]
    }
   ],
   "source": [
    "pic_test = torch.unsqueeze(mnist_train[0][0], dim=1)\n",
    "print(pic_test.size())\n",
    "for layer in net:\n",
    "    pic_test = layer(pic_test)\n",
    "    print(f'{layer.__class__.__name__}->{pic_test.size()}')"
   ],
   "metadata": {
    "collapsed": false,
    "ExecuteTime": {
     "end_time": "2024-01-14T11:18:47.512763Z",
     "start_time": "2024-01-14T11:18:47.509225Z"
    }
   }
  },
  {
   "cell_type": "code",
   "execution_count": 139,
   "outputs": [
    {
     "name": "stdout",
     "output_type": "stream",
     "text": [
      "torch.Size([64, 1, 28, 28]) \n",
      " torch.Size([64, 10])\n"
     ]
    }
   ],
   "source": [
    "# This cell works well and print \"torch.Size([64, 62])\" as expected\n",
    "for X, y in train_data_iter:\n",
    "    y_hat = net(X)\n",
    "    print(f'{X.size()} \\n {y_hat.size()}')\n",
    "    break"
   ],
   "metadata": {
    "collapsed": false,
    "ExecuteTime": {
     "end_time": "2024-01-14T11:18:47.566900Z",
     "start_time": "2024-01-14T11:18:47.514034Z"
    }
   }
  },
  {
   "cell_type": "code",
   "execution_count": 140,
   "outputs": [
    {
     "name": "stdout",
     "output_type": "stream",
     "text": [
      "epoch: 1, loss = 0.43623191118240356\n",
      "epoch: 2, loss = 0.3412894606590271\n",
      "epoch: 3, loss = 0.6130672693252563\n",
      "epoch: 4, loss = 0.5332384705543518\n",
      "epoch: 5, loss = 0.3765077292919159\n",
      "epoch: 6, loss = 0.32843321561813354\n",
      "epoch: 7, loss = 0.3612191379070282\n",
      "epoch: 8, loss = 0.5268602967262268\n",
      "epoch: 9, loss = 0.3118099272251129\n",
      "epoch: 10, loss = 0.36352285742759705\n"
     ]
    }
   ],
   "source": [
    "loss = nn.CrossEntropyLoss()\n",
    "num_epoch = 10\n",
    "for epoch in range(1, num_epoch + 1):\n",
    "    for X, y in train_data_iter:\n",
    "        y_hat = net(X)\n",
    "        l = loss(y_hat, y)\n",
    "        optimizer.zero_grad()\n",
    "        l.backward()\n",
    "        optimizer.step()\n",
    "    print(f'epoch: {epoch}, loss = {l}')"
   ],
   "metadata": {
    "collapsed": false,
    "ExecuteTime": {
     "end_time": "2024-01-14T11:30:31.346560Z",
     "start_time": "2024-01-14T11:18:47.568761Z"
    }
   }
  },
  {
   "cell_type": "code",
   "execution_count": 144,
   "outputs": [
    {
     "name": "stdout",
     "output_type": "stream",
     "text": [
      "tensor([9, 2, 1, 1, 6, 1, 4, 6, 5, 7, 4, 5, 5, 3, 4, 1, 2, 6, 8, 0, 2, 5, 7, 5,\n",
      "        1, 4, 6, 0, 9, 4, 8, 8]) \n",
      " tensor([9, 2, 1, 1, 6, 1, 4, 6, 5, 7, 4, 5, 7, 3, 4, 1, 2, 4, 8, 0, 2, 5, 7, 9,\n",
      "        1, 4, 6, 0, 9, 3, 8, 8])\n"
     ]
    }
   ],
   "source": [
    "test_data_iter = Data.DataLoader(dataset=mnist_test, batch_size=32, shuffle=False)\n",
    "for X, y in test_data_iter:\n",
    "    y_hat = net(X)\n",
    "    _, pre = torch.max(y_hat, dim = 1)\n",
    "    print(f'{pre} \\n {y}')\n",
    "    break"
   ],
   "metadata": {
    "collapsed": false,
    "ExecuteTime": {
     "end_time": "2024-01-14T12:04:08.997224Z",
     "start_time": "2024-01-14T12:04:08.953839Z"
    }
   }
  },
  {
   "cell_type": "code",
   "execution_count": 146,
   "outputs": [
    {
     "name": "stdout",
     "output_type": "stream",
     "text": [
      "Accuracy of the model on the test images: 90.24%\n"
     ]
    }
   ],
   "source": [
    "net.eval()\n",
    "cor = 0\n",
    "tot = 0\n",
    "with torch.no_grad():\n",
    "    for X, y in test_data_iter:\n",
    "        y_hat = net(X)\n",
    "        _, predicted = torch.max(y_hat, 1)\n",
    "        tot += y.size(0)\n",
    "        cor += (predicted == y).sum().item()\n",
    "acc = cor / tot\n",
    "print(f'Accuracy of the model on the test images: {acc * 100}%')"
   ],
   "metadata": {
    "collapsed": false,
    "ExecuteTime": {
     "end_time": "2024-01-14T12:09:57.669281Z",
     "start_time": "2024-01-14T12:09:51.478616Z"
    }
   }
  },
  {
   "cell_type": "code",
   "execution_count": null,
   "outputs": [],
   "source": [],
   "metadata": {
    "collapsed": false
   }
  }
 ],
 "metadata": {
  "kernelspec": {
   "display_name": "Python 3",
   "language": "python",
   "name": "python3"
  },
  "language_info": {
   "codemirror_mode": {
    "name": "ipython",
    "version": 2
   },
   "file_extension": ".py",
   "mimetype": "text/x-python",
   "name": "python",
   "nbconvert_exporter": "python",
   "pygments_lexer": "ipython2",
   "version": "2.7.6"
  }
 },
 "nbformat": 4,
 "nbformat_minor": 0
}
